{
 "cells": [
  {
   "cell_type": "code",
   "execution_count": 1,
   "metadata": {},
   "outputs": [
    {
     "name": "stdout",
     "output_type": "stream",
     "text": [
      "hallo, verden!\n"
     ]
    }
   ],
   "source": [
    "print(\"hallo, verden!\")"
   ]
  },
  {
   "cell_type": "code",
   "execution_count": 4,
   "metadata": {},
   "outputs": [
    {
     "name": "stdout",
     "output_type": "stream",
     "text": [
      "<class 'list'>\n"
     ]
    },
    {
     "data": {
      "text/plain": [
       "{'navn': 'La Diabla',\n",
       " 'artist': 'Xavi',\n",
       " 'bilde_url': 'https://i.scdn.co/image/ab67616d00001e021501c770de50a22b25d67611',\n",
       " 'plassering': 1,\n",
       " 'forrige_plassering': 1,\n",
       " 'topplassering': 1,\n",
       " 'topp_dato': '2024-01-11',\n",
       " 'uker_paa_listen': 5,\n",
       " 'antall_streams': 34195950}"
      ]
     },
     "execution_count": 4,
     "metadata": {},
     "output_type": "execute_result"
    }
   ],
   "source": [
    "import json\n",
    "with open (\"spotify-weekly-top-songs-global-uke2-2023.json\") as fil:\n",
    "    data = json.load(fil)\n",
    "print(type(data)) #printer data typen for å skjekke hva vi har å jobbe med\n",
    "data[0] #henter ut det første elementet i lista (trenger ikke print i notebooks)"
   ]
  },
  {
   "cell_type": "code",
   "execution_count": 5,
   "metadata": {},
   "outputs": [
    {
     "data": {
      "text/plain": [
       "5"
      ]
     },
     "execution_count": 5,
     "metadata": {},
     "output_type": "execute_result"
    }
   ],
   "source": [
    "data[0][\"uker_paa_listen\"] #ignorer i forhold til oppgaven"
   ]
  },
  {
   "cell_type": "code",
   "execution_count": 6,
   "metadata": {},
   "outputs": [
    {
     "name": "stdout",
     "output_type": "stream",
     "text": [
      "Believer 358\n"
     ]
    },
    {
     "data": {
      "text/plain": [
       "358"
      ]
     },
     "execution_count": 6,
     "metadata": {},
     "output_type": "execute_result"
    }
   ],
   "source": [
    "høyest = data[0][\"uker_paa_listen\"]\n",
    "for sang in data:\n",
    "    if sang [\"uker_paa_listen\"] > høyest:\n",
    "        høyest = sang[\"uker_paa_listen\"]\n",
    "        høyest_sang = sang[\"navn\"]\n",
    "print(høyest_sang, høyest)\n",
    "høyest"
   ]
  },
  {
   "cell_type": "code",
   "execution_count": 16,
   "metadata": {},
   "outputs": [
    {
     "name": "stdout",
     "output_type": "stream",
     "text": [
      "ny høyeste sang funnet!!\n",
      "ny høyeste sang funnet!!\n",
      "ny høyeste sang funnet!!\n",
      "ny høyeste sang funnet!!\n",
      "ny høyeste sang funnet!!\n",
      "ny høyeste sang funnet!!\n",
      "ny høyeste sang funnet!!\n",
      "ny høyeste sang funnet!!\n",
      "ny høyeste sang funnet!!\n",
      "ny høyeste sang funnet!!\n",
      "ny høyeste sang funnet!!\n",
      "Imagine Dragons Believer 358\n"
     ]
    }
   ],
   "source": [
    "høyest_uker = -1\n",
    "høyest_artist = \"\"\n",
    "høyest_navn = \"\"\n",
    "for sang in data:\n",
    "    #print (sang[\"artist\"], sang[\"navn\"], sang[\"uker_paa_listen\"])\n",
    "    sang_uker = sang[\"uker_paa_listen\"]\n",
    "    sang_artist = sang[\"artist\"]\n",
    "    sang_navn = sang [\"navn\"]\n",
    "    if sang_uker > høyest_uker:\n",
    "        høyest_uker = sang_uker\n",
    "        høyest_artist = sang_artist\n",
    "        høyest_navn = sang_navn\n",
    "        print(\"ny høyeste sang funnet!!\")\n",
    "print (høyest_artist, høyest_navn, høyest_uker)"
   ]
  },
  {
   "cell_type": "code",
   "execution_count": 18,
   "metadata": {},
   "outputs": [
    {
     "name": "stdout",
     "output_type": "stream",
     "text": [
      "{'navn': 'Believer', 'artist': 'Imagine Dragons', 'bilde_url': 'https://i.scdn.co/image/ab67616d00001e025675e83f707f1d7271e5cf8a', 'plassering': 173, 'forrige_plassering': 173, 'topplassering': 16, 'topp_dato': '2017-06-29', 'uker_paa_listen': 358, 'antall_streams': 8322500}\n"
     ]
    }
   ],
   "source": [
    "høyest = data[0]\n",
    "for sang in data:\n",
    "    if sang [\"uker_paa_listen\"] > høyest [\"uker_paa_listen\"]:\n",
    "        høyest = sang\n",
    "print(høyest)"
   ]
  },
  {
   "cell_type": "code",
   "execution_count": 20,
   "metadata": {},
   "outputs": [
    {
     "name": "stdout",
     "output_type": "stream",
     "text": [
      "gjennomsnittelig antall uker på lista: 55.41\n"
     ]
    }
   ],
   "source": [
    "total = 0\n",
    "antall = 0\n",
    "\n",
    "for sang in data:\n",
    "    total += sang [\"uker_paa_listen\"]\n",
    "    antall += 1\n",
    "print(\"gjennomsnittelig antall uker på lista:\", total / antall)"
   ]
  },
  {
   "cell_type": "code",
   "execution_count": 22,
   "metadata": {},
   "outputs": [
    {
     "name": "stdout",
     "output_type": "stream",
     "text": [
      "gjennomsnittelig antall streams: 11785697.48\n"
     ]
    }
   ],
   "source": [
    "#oppgave: gjennomsnittlig antall streams streams per sang på topplista\n",
    "total = 0\n",
    "antall = 0\n",
    "\n",
    "for sang in data:\n",
    "    total += sang [\"antall_streams\"]\n",
    "    antall += 1\n",
    "print(\"gjennomsnittelig antall streams:\", total / antall)"
   ]
  },
  {
   "cell_type": "code",
   "execution_count": 28,
   "metadata": {},
   "outputs": [
    {
     "name": "stdout",
     "output_type": "stream",
     "text": [
      "12001729.7\n"
     ]
    }
   ],
   "source": [
    "total = 0\n",
    "for sang in data:\n",
    "    if sang[\"artist\"] == \"Taylor Swift\":\n",
    "        total += sang [\"antall_streams\"]\n",
    "print(total / antall)\n"
   ]
  },
  {
   "cell_type": "code",
   "execution_count": 26,
   "metadata": {},
   "outputs": [
    {
     "name": "stdout",
     "output_type": "stream",
     "text": [
      "Talor Swift har totalt 120017297 antall streams, som gir et snitt på 12001729.7 per sang\n"
     ]
    }
   ],
   "source": [
    "#gjennomsnittlig hvior mnage streams taylor swift får per sang\n",
    "total = 0\n",
    "antall = 0\n",
    "for sang in data:\n",
    "    if sang[\"artist\"] == \"Taylor Swift\":\n",
    "        total += sang [\"antall_streams\"]\n",
    "        antall += 1\n",
    "print(f\"Talor Swift har totalt {total} antall streams, som gir et snitt på {total/antall} per sang\")"
   ]
  }
 ],
 "metadata": {
  "kernelspec": {
   "display_name": "Python 3",
   "language": "python",
   "name": "python3"
  },
  "language_info": {
   "codemirror_mode": {
    "name": "ipython",
    "version": 3
   },
   "file_extension": ".py",
   "mimetype": "text/x-python",
   "name": "python",
   "nbconvert_exporter": "python",
   "pygments_lexer": "ipython3",
   "version": "3.11.4"
  }
 },
 "nbformat": 4,
 "nbformat_minor": 2
}
