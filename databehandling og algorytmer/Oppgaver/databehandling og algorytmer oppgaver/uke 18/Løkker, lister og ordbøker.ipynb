{
 "cells": [
  {
   "cell_type": "code",
   "execution_count": 11,
   "metadata": {},
   "outputs": [
    {
     "name": "stdout",
     "output_type": "stream",
     "text": [
      "2\n",
      "4\n",
      "6\n",
      "8\n",
      "10\n",
      "12\n",
      "14\n",
      "16\n",
      "18\n",
      "20\n"
     ]
    }
   ],
   "source": [
    "#while-løkker brukt for å telle\n",
    "teller = 10\n",
    "while teller >0:\n",
    "    #print(teller)\n",
    "    teller -= 1\n",
    "\n",
    "# oppvarmingsoppgave \n",
    "# tell alle partall fra 0-20\n",
    "teller = 2\n",
    "while teller <= 20:\n",
    "    print(teller)\n",
    "    teller += 2\n"
   ]
  },
  {
   "cell_type": "code",
   "execution_count": 10,
   "metadata": {},
   "outputs": [
    {
     "name": "stdout",
     "output_type": "stream",
     "text": [
      "1\n",
      "2\n",
      "3\n",
      "4\n"
     ]
    }
   ],
   "source": [
    "\"\"\"\n",
    "SET i TO 1\n",
    "WHILE i < 5\n",
    "  PRINT i\n",
    "  INCREMENT i \n",
    "ENDWHILE\n",
    "\"\"\"\n",
    "i = 1\n",
    "while i < 5 :\n",
    "    print(i)\n",
    "    i += 1"
   ]
  },
  {
   "cell_type": "code",
   "execution_count": 13,
   "metadata": {},
   "outputs": [
    {
     "name": "stdout",
     "output_type": "stream",
     "text": [
      "1\n",
      "3\n",
      "5\n"
     ]
    }
   ],
   "source": [
    "\"\"\"\n",
    "SET i TO 1\n",
    "WHILE i <= 5\n",
    "  PRINT i\n",
    "  INCREMENT i BY 2\n",
    "ENDWHILE\n",
    "\"\"\"\n",
    "i = 1\n",
    "while i <= 5: \n",
    "    print(i)\n",
    "    i += 2"
   ]
  },
  {
   "cell_type": "code",
   "execution_count": 15,
   "metadata": {},
   "outputs": [
    {
     "name": "stdout",
     "output_type": "stream",
     "text": [
      "1\n",
      "2\n",
      "3\n",
      "4\n",
      "5\n",
      "6\n",
      "7\n",
      "8\n",
      "9\n",
      "10\n",
      "0\n",
      "0\n",
      "1\n",
      "1\n",
      "1\n",
      "2\n",
      "2\n",
      "2\n",
      "2\n",
      "2\n",
      "2\n",
      "2\n"
     ]
    }
   ],
   "source": [
    "# for-løkke\n",
    "#brukes for å gå gjennom en sekvens,\n",
    "# en samling med *ting* f.eks en liste med tall eller en ordbok med nøkler.\n",
    "for tall in [1,2,3,4,5,6,7,8,9,10]:\n",
    "    print(tall)\n",
    "\n",
    "antall_mellomrom = 0\n",
    "for bokstav in \"ja vi elsker\":\n",
    "    if bokstav == \" \":\n",
    "        antall_mellomrom += 1\n",
    "    print(antall_mellomrom)\n"
   ]
  },
  {
   "cell_type": "code",
   "execution_count": null,
   "metadata": {},
   "outputs": [],
   "source": [
    "antall_mellomrom = 0\n",
    "for bokstav in \"ja vi elsker\"\n"
   ]
  },
  {
   "cell_type": "code",
   "execution_count": 19,
   "metadata": {},
   "outputs": [
    {
     "name": "stdout",
     "output_type": "stream",
     "text": [
      "1\n",
      "1\n",
      "2\n",
      "3\n",
      "4\n",
      "5\n",
      "6\n",
      "7\n",
      "8\n",
      "9\n",
      "10\n"
     ]
    }
   ],
   "source": [
    "#range\n",
    "#range (start, slutt_før), steg er en innebygd funksjon som gir oss en sekvens med tall,\n",
    "#som vi kan bruke i for-løkker\n",
    "\n",
    "for tall in range(1,2,3):\n",
    "    print(tall)\n",
    "\n",
    "for tall in range (1,11,1): #for hvert tall i sekvensen som starter på 1, slutter før 11 og øker med 1\n",
    "    print(tall)\n",
    "\n",
    "#TIPS\n",
    "#hvis vi starter med 0, trenger vi ikke skrive start-argument\n",
    "#hvis vi skal øke med 1, trenger vi ikke skrive steg-argument"
   ]
  },
  {
   "cell_type": "code",
   "execution_count": 20,
   "metadata": {},
   "outputs": [
    {
     "name": "stdout",
     "output_type": "stream",
     "text": [
      "0\n",
      "1\n",
      "2\n",
      "3\n",
      "4\n",
      "5\n",
      "6\n",
      "7\n",
      "10\n",
      "9\n",
      "8\n",
      "7\n",
      "6\n",
      "5\n",
      "4\n",
      "3\n",
      "2\n",
      "1\n"
     ]
    }
   ],
   "source": [
    "#oppgave lag en for-løkke som printer tallene fra 0 til 7\n",
    "for tall in range (8):\n",
    "    print(tall)\n",
    "\n",
    "#lag en for-løkke som printer tallene fra 10-1\n",
    "for tall in range (10, 0, -1):\n",
    "    print(tall)"
   ]
  },
  {
   "cell_type": "code",
   "execution_count": 21,
   "metadata": {},
   "outputs": [
    {
     "name": "stdout",
     "output_type": "stream",
     "text": [
      "IT1: 6\n",
      "IT2: 6\n",
      "IT3: 4\n",
      "R1: 5\n",
      "R2: 4\n"
     ]
    }
   ],
   "source": [
    "fag = [\"IT1\", \"IT2\", \"IT3\", \"R1\", \"R2\" ]\n",
    "karakterer = (6,6,4,5,4)\n",
    "\n",
    "\n",
    "#Oppgave print fag og karakter på samme linje- bruk for tall in range()\n",
    "#eks: IT1:6\n",
    "#eks: IT2:6\n",
    "for tall in range(len(fag)):\n",
    "    print(f\"{fag[tall]}: {karakterer[tall]}\")"
   ]
  },
  {
   "cell_type": "code",
   "execution_count": 1,
   "metadata": {},
   "outputs": [
    {
     "name": "stdout",
     "output_type": "stream",
     "text": [
      "mattelærer\n",
      "favorittall\n",
      "\n",
      "Nøkler\n",
      "navn David Ravi\n",
      "alder 43\n",
      "yrke mattelærer\n",
      "favorittaktivitet hjelpe emilioe med matte\n",
      "favorittdrikke databrus\n",
      "123 favorittall\n",
      "navn David Ravi\n",
      "alder 43\n",
      "yrke mattelærer\n",
      "favorittaktivitet hjelpe emilioe med matte\n",
      "favorittdrikke databrus\n",
      "123 favorittall\n"
     ]
    }
   ],
   "source": [
    "ravi = { #krøll parangses fordi det er ordbok og ikke liste\n",
    "    \"navn\": \"David Ravi\",\n",
    "    \"alder\": 43,\n",
    "    \"yrke\": \"mattelærer\",\n",
    "    \"favorittaktivitet\": \"hjelpe emilioe med matte\",\n",
    "    \"favorittdrikke\": \"databrus\",\n",
    "    123: \"favorittall\" #vi kan også bruke andre typer nøkler i en ordbok\n",
    "    #nøkkel:verdi\n",
    "}\n",
    "\n",
    "print(ravi[\"yrke\"])\n",
    "print(ravi[123])\n",
    "\n",
    "print()\n",
    "print(\"Nøkler\")\n",
    "#en for-løkke som looper gjennom en ordbok vil gå gjennom alle nøklene\n",
    "#variabelen som opprettes i en for-løkke som går gjennom en ordbok \n",
    "#vil etter tur ha verdiene til nøklene i ordboka\n",
    "for nøkkel in ravi:\n",
    "    print(nøkkel, ravi[nøkkel])\n",
    "\n",
    "#alternativt kan vi bruke .items() og to variabler for å gå gjennom alt innholdet i en ordbok\n",
    "for nøkkel, verdi in ravi.items():\n",
    "    print(nøkkel, verdi)"
   ]
  },
  {
   "cell_type": "code",
   "execution_count": 5,
   "metadata": {},
   "outputs": [
    {
     "name": "stdout",
     "output_type": "stream",
     "text": [
      "Emma Stone (34)\n"
     ]
    }
   ],
   "source": [
    "#lister med ordbøker\n",
    "\n",
    "skuespillere = [\n",
    "    {\"navn\": \"Tom Hanks\", \"alder\": 66},\n",
    "    {\"navn\": \"Meryl Streep\", \"alder\": 73},\n",
    "    {\"navn\": \"Leonardo DiCaprio\", \"alder\": 48},\n",
    "    {\"navn\": \"Julia Roberts\", \"alder\": 55},\n",
    "    {\"navn\": \"Denzel Washington\", \"alder\": 67},\n",
    "    {\"navn\": \"Nicole Kidman\", \"alder\": 55},\n",
    "    {\"navn\": \"Brad Pitt\", \"alder\": 59},\n",
    "    {\"navn\": \"Charlize Theron\", \"alder\": 47},\n",
    "    {\"navn\": \"Johnny Depp\", \"alder\": 59},\n",
    "    {\"navn\": \"Emma Stone\", \"alder\": 34},\n",
    "]\n",
    "\n",
    "favoritt = skuespillere [9] \n",
    "\n",
    "#kan også skrive: for å hente ut siste\n",
    "#favoritt = skuespillere [-1]\n",
    "print(f\"{favoritt['navn']} ({favoritt['alder']})\")\n"
   ]
  },
  {
   "cell_type": "code",
   "execution_count": 7,
   "metadata": {},
   "outputs": [
    {
     "name": "stdout",
     "output_type": "stream",
     "text": [
      "Tom Hanks (66)\n",
      "Meryl Streep (73)\n",
      "Leonardo DiCaprio (48)\n",
      "Julia Roberts (55)\n",
      "Denzel Washington (67)\n",
      "Nicole Kidman (55)\n",
      "Brad Pitt (59)\n",
      "Charlize Theron (47)\n",
      "Johnny Depp (59)\n",
      "Emma Stone (34)\n"
     ]
    }
   ],
   "source": [
    "for s in skuespillere:\n",
    "    print(f\"{s['navn']} ({s['alder']})\")\n"
   ]
  },
  {
   "cell_type": "code",
   "execution_count": 10,
   "metadata": {},
   "outputs": [
    {
     "name": "stdout",
     "output_type": "stream",
     "text": [
      "{'navn': 'Meryl Streep', 'alder': 73}\n",
      "56.3\n"
     ]
    }
   ],
   "source": [
    "eldst = skuespillere[0]\n",
    "totalalder = 0\n",
    "for skuespiller in skuespillere:\n",
    "    totalalder += skuespiller [\"alder\"]\n",
    "    if skuespiller[\"alder\"] > eldst [\"alder\"]:\n",
    "        eldst = skuespiller\n",
    "print(eldst)\n",
    "snitt = totalalder /len(skuespillere)\n",
    "print(snitt)\n"
   ]
  },
  {
   "cell_type": "code",
   "execution_count": null,
   "metadata": {},
   "outputs": [],
   "source": []
  }
 ],
 "metadata": {
  "kernelspec": {
   "display_name": "Python 3",
   "language": "python",
   "name": "python3"
  },
  "language_info": {
   "codemirror_mode": {
    "name": "ipython",
    "version": 3
   },
   "file_extension": ".py",
   "mimetype": "text/x-python",
   "name": "python",
   "nbconvert_exporter": "python",
   "pygments_lexer": "ipython3",
   "version": "3.11.4"
  }
 },
 "nbformat": 4,
 "nbformat_minor": 2
}
