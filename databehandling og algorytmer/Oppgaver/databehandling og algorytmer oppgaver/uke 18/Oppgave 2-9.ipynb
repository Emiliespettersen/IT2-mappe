{
 "cells": [
  {
   "cell_type": "markdown",
   "metadata": {},
   "source": [
    "# Oppgave 2.9\n",
    "1. Kopier listen med vinnere av gullballen 👇👇 inn i en python-fil og print ordboken til den første spilleren.\n",
    "2. Lag en for-løkke som printer navn og nasjonalitet på hver spiller.\n",
    "3. Utvid koden slik at for-løkken også printer antall gullballer spillerne har vunnet."
   ]
  },
  {
   "cell_type": "code",
   "execution_count": 3,
   "metadata": {},
   "outputs": [],
   "source": [
    "\n",
    "import json\n",
    "\n",
    "fil = open(\"oppgave 2-9-json-fil.json\")\n",
    "gullballen= json.load(fil)\n",
    "fil.close()"
   ]
  },
  {
   "cell_type": "code",
   "execution_count": 4,
   "metadata": {},
   "outputs": [
    {
     "name": "stdout",
     "output_type": "stream",
     "text": [
      "Den som ligger øverst er {'navn': 'Luís Figo', 'år': [2000], 'nasjonalitet': 'Portugal', 'klubber': ['Real Madrid']}\n"
     ]
    }
   ],
   "source": [
    "# 1. Kopier listen med vinnere av gullballen 👇👇 inn i en python-fil og print ordboken til den første spilleren.\n",
    "print(f\"Den som ligger øverst er {gullballen[0]}\")"
   ]
  },
  {
   "cell_type": "code",
   "execution_count": 12,
   "metadata": {},
   "outputs": [
    {
     "name": "stdout",
     "output_type": "stream",
     "text": [
      "Navn og nasjonalitet på hver spiller er: Luís Figo, Portugal\n",
      "Navn og nasjonalitet på hver spiller er: Michael Owen, England\n",
      "Navn og nasjonalitet på hver spiller er: Ronaldo, Brasil\n",
      "Navn og nasjonalitet på hver spiller er: Pavel Nedvěd, Tsjekkia\n",
      "Navn og nasjonalitet på hver spiller er: Andriy Shevchenko, Ukraina\n",
      "Navn og nasjonalitet på hver spiller er: Ronaldinho, Brasil\n",
      "Navn og nasjonalitet på hver spiller er: Fabio Cannavaro, Italia\n",
      "Navn og nasjonalitet på hver spiller er: Kaká, Brasil\n",
      "Navn og nasjonalitet på hver spiller er: Cristiano Ronaldo, Portugal\n",
      "Navn og nasjonalitet på hver spiller er: Lionel Messi, Argentina\n",
      "Navn og nasjonalitet på hver spiller er: Luka Modric, Kroatia\n",
      "Navn og nasjonalitet på hver spiller er: Karim Benzema, Frankrike\n"
     ]
    }
   ],
   "source": [
    "# Lag en for-løkke som printer navn og nasjonalitet på hver spiller.\n",
    "for spillere in gullballen:\n",
    "    print(f\"Navn og nasjonalitet på hver spiller er: {spillere['navn']}, {spillere['nasjonalitet']}\")\n"
   ]
  },
  {
   "cell_type": "code",
   "execution_count": 14,
   "metadata": {},
   "outputs": [
    {
     "name": "stdout",
     "output_type": "stream",
     "text": [
      "Luís Figo, har fått 1 gullballer\n",
      "Michael Owen, har fått 1 gullballer\n",
      "Ronaldo, har fått 1 gullballer\n",
      "Pavel Nedvěd, har fått 1 gullballer\n",
      "Andriy Shevchenko, har fått 1 gullballer\n",
      "Ronaldinho, har fått 1 gullballer\n",
      "Fabio Cannavaro, har fått 1 gullballer\n",
      "Kaká, har fått 1 gullballer\n",
      "Cristiano Ronaldo, har fått 5 gullballer\n",
      "Lionel Messi, har fått 8 gullballer\n",
      "Luka Modric, har fått 1 gullballer\n",
      "Karim Benzema, har fått 1 gullballer\n"
     ]
    }
   ],
   "source": [
    "# 3. Utvid koden slik at for-løkken også printer antall gullballer spillerne har vunnet\n",
    "\n",
    "for spillere in gullballen:\n",
    "    print(f\"{spillere['navn']}, har fått {len(spillere['år'])} gullballer\")"
   ]
  },
  {
   "cell_type": "code",
   "execution_count": null,
   "metadata": {},
   "outputs": [],
   "source": []
  }
 ],
 "metadata": {
  "kernelspec": {
   "display_name": "Python 3",
   "language": "python",
   "name": "python3"
  },
  "language_info": {
   "codemirror_mode": {
    "name": "ipython",
    "version": 3
   },
   "file_extension": ".py",
   "mimetype": "text/x-python",
   "name": "python",
   "nbconvert_exporter": "python",
   "pygments_lexer": "ipython3",
   "version": "3.11.4"
  }
 },
 "nbformat": 4,
 "nbformat_minor": 2
}
