{
 "cells": [
  {
   "cell_type": "markdown",
   "metadata": {},
   "source": [
    "## Oppgave 3\n",
    "\n",
    "Listen `biler` inneholder informasjon om de 10 mest solgte bilene i Norge i 2023.\n",
    "\n",
    "> OBS! Kjør kodeblokken under før du begynner å programmere!\n",
    "\n",
    "1. Bruk listen og lag en fin utskrift med informasjon om Tesla Model Y\n",
    "2. Bruk listen og lag en fin utskrift med informasjon om alle bilene på topplisten\n",
    "3. Av bilene som er på topplisten hvor mange solgte biler er av merke Toyota?\n",
    "4. Lag en ordbok som teller antall solgte biler for hvert bilmerke på topplisten\n",
    "5. Tegn et stolpediagram som viser antall solgte biler på topplisten gruppert etter bilmerke"
   ]
  },
  {
   "cell_type": "code",
   "execution_count": 1,
   "metadata": {},
   "outputs": [],
   "source": [
    "biler =  [\n",
    "    {\"bilmerke\": \"Tesla\", \"modell\": \"Model Y\", \"land\": \"USA\", \"antall_solgte\": 23088, \"andel_solgte\": 18.2},\n",
    "    {\"bilmerke\": \"Volkswagen\", \"modell\": \"ID.4\", \"land\": \"Tyskland\", \"antall_solgte\": 6614, \"andel_solgte\": 5.2},\n",
    "    {\"bilmerke\": \"Skoda\", \"modell\": \"Enyaq\", \"land\": \"Tsjekkia\", \"antall_solgte\": 5740, \"andel_solgte\": 4.5},\n",
    "    {\"bilmerke\": \"Toyota\", \"modell\": \"bZ4X\", \"land\": \"Japan\", \"antall_solgte\": 5395, \"andel_solgte\": 4.2},\n",
    "    {\"bilmerke\": \"Volvo\", \"modell\": \"XC40\", \"land\": \"Sverige\", \"antall_solgte\": 5025, \"andel_solgte\": 4.0},\n",
    "    {\"bilmerke\": \"Ford\", \"modell\": \"Mustang Mach-E\", \"land\": \"USA\", \"antall_solgte\": 3792, \"andel_solgte\": 3.0},\n",
    "    {\"bilmerke\": \"Toyota\", \"modell\": \"Yaris\", \"land\": \"Japan\", \"antall_solgte\": 3582, \"andel_solgte\": 2.8},\n",
    "    {\"bilmerke\": \"Toyota\", \"modell\": \"RAV4\", \"land\": \"Japan\", \"antall_solgte\": 3457, \"andel_solgte\": 2.7},\n",
    "    {\"bilmerke\": \"Volkswagen\", \"modell\": \"ID.3\", \"land\": \"Tyskland\", \"antall_solgte\": 3141, \"andel_solgte\": 2.5}\n",
    "]\n",
    "# Kjør denne kodeblokken før du begynner! (shift + enter) / (Trykk på play)"
   ]
  },
  {
   "cell_type": "code",
   "execution_count": 27,
   "metadata": {},
   "outputs": [
    {
     "name": "stdout",
     "output_type": "stream",
     "text": [
      "informasonen om Tesla er at det er en Model Y, den er fra USA, og er solgt 23088, eksemplarer av.\n"
     ]
    }
   ],
   "source": [
    "# 1. Bruk ordboken og lag en fin utskrift med informasjon om Tesla Model Y\n",
    "\n",
    "print(f\"informasonen om {biler[0]['bilmerke']} er at det er en {biler[0]['modell']}, den er fra {biler[0]['land']}, og er solgt {biler[0]['antall_solgte']}, eksemplarer av.\")"
   ]
  },
  {
   "cell_type": "code",
   "execution_count": 31,
   "metadata": {},
   "outputs": [
    {
     "name": "stdout",
     "output_type": "stream",
     "text": [
      "informasonen om Tesla er at det er en Model Y, den er fra USA, og er solgt 23088, eksemplarer av.\n",
      "informasonen om Volkswagen er at det er en ID.4, den er fra Tyskland, og er solgt 6614, eksemplarer av.\n",
      "informasonen om Skoda er at det er en Enyaq, den er fra Tsjekkia, og er solgt 5740, eksemplarer av.\n",
      "informasonen om Toyota er at det er en bZ4X, den er fra Japan, og er solgt 5395, eksemplarer av.\n",
      "informasonen om Volvo er at det er en XC40, den er fra Sverige, og er solgt 5025, eksemplarer av.\n",
      "informasonen om Ford er at det er en Mustang Mach-E, den er fra USA, og er solgt 3792, eksemplarer av.\n",
      "informasonen om Toyota er at det er en Yaris, den er fra Japan, og er solgt 3582, eksemplarer av.\n",
      "informasonen om Toyota er at det er en RAV4, den er fra Japan, og er solgt 3457, eksemplarer av.\n",
      "informasonen om Volkswagen er at det er en ID.3, den er fra Tyskland, og er solgt 3141, eksemplarer av.\n"
     ]
    }
   ],
   "source": [
    "# 2. Bruk listen og lag en fin utskrift med informasjon om alle bilene på topplisten\n",
    "for bil in biler: \n",
    "    print(f\"informasonen om {bil['bilmerke']} er at det er en {bil['modell']}, den er fra {bil['land']}, og er solgt {bil['antall_solgte']}, eksemplarer av.\")"
   ]
  },
  {
   "cell_type": "code",
   "execution_count": 35,
   "metadata": {},
   "outputs": [
    {
     "name": "stdout",
     "output_type": "stream",
     "text": [
      "Toyota har solgt 12434 anntall biler\n"
     ]
    }
   ],
   "source": [
    "# 3. Av bilene som er på topplisten hvor mange solgte biler var av merke Toyota?\n",
    "total = 0\n",
    "for merke in biler:\n",
    "    if merke[\"bilmerke\"] == \"Toyota\":\n",
    "        total += merke [\"antall_solgte\"]\n",
    "print(f\"Toyota har solgt {total} anntall biler\")"
   ]
  },
  {
   "cell_type": "code",
   "execution_count": 146,
   "metadata": {},
   "outputs": [
    {
     "name": "stdout",
     "output_type": "stream",
     "text": [
      "Hvert solgte har i gjennomsnitt 45\n"
     ]
    }
   ],
   "source": [
    "# 4. Lag en ordbok som teller antall solgte biler for hvert bilmerke på topplisten\n",
    "\n",
    "\n",
    "antall_solgte = {}\n",
    "\n",
    "for bil in biler:\n",
    "    solgte = bil['bilmerke']#['navn']\n",
    "    if solgte not in antall_solgte:\n",
    "        antall_solgte[solgte] = 1\n",
    "    else:\n",
    "        antall_solgte[solgte] += 1\n",
    "\n",
    "for solgte in antall_solgte:\n",
    "    total += antall_solgte[solgte]\n",
    "#snitt = total / len(antall_solgte)\n",
    "print(f\"Hvert solgte har i gjennomsnitt {total}\")\n",
    "\n",
    "#jeg vet at dette er feil, men får ikke orgnet opp i det..\n",
    "\n"
   ]
  },
  {
   "cell_type": "code",
   "execution_count": 66,
   "metadata": {},
   "outputs": [
    {
     "data": {
      "image/png": "[encoded data removed]",
      "text/plain": [
       "<Figure size 640x480 with 1 Axes>"
      ]
     },
     "metadata": {},
     "output_type": "display_data"
    }
   ],
   "source": [
    "# 5. Tegn et stolpediagram som viser antall solgte biler på topplisten gruppert etter bilmerke\n",
    "import matplotlib.pyplot as plt\n",
    "\n",
    "\n",
    "solgte_liste = list(antall_solgte.keys())\n",
    "antall_liste = list(antall_solgte.values())\n",
    "plt.bar(solgte_liste, antall_liste)\n",
    "plt.xticks(rotation=90) # bonus: roterer teksten på x-aksen 90 grader slik at den er lettere å lese\n",
    "plt.show() # trenger ikke denne i .ipynb-filer"
   ]
  },
  {
   "cell_type": "markdown",
   "metadata": {},
   "source": [
    "## Oppgave 4\n",
    "\n",
    "1. Åpne filen oscar2024.json med python, og print ordboken til \"Actor in a Leading Role\" (den første prisen)\n",
    "2. Print alle de nominerte filmene\n",
    "3. Hvor mange nominasjoner har filmen \"Barbie\"\n",
    "4. Hvilken film har flest nominasjoner, hvor mange har den?\n",
    "5. Lag en oversikt som presenterer de ti filmene med flest nominasjoner og antall nominasjoner"
   ]
  },
  {
   "cell_type": "code",
   "execution_count": 2,
   "metadata": {},
   "outputs": [
    {
     "name": "stdout",
     "output_type": "stream",
     "text": [
      "{'name': 'Actor in a Leading Role', 'nominations': [{'name': 'Bradley Cooper', 'movie': 'Maestro'}, {'name': 'Colman Domingo', 'movie': 'Rustin'}, {'name': 'Paul Giamatti', 'movie': 'The Holdovers'}, {'name': 'Cillian Murphy', 'movie': 'Oppenheimer'}, {'name': 'Jeffrey Wright', 'movie': 'American Fiction'}]}\n"
     ]
    }
   ],
   "source": [
    "# 1. Åpne filen oscar2024.json med python og print ordboken til \"Actor in a Leading Role\"\n",
    "import json\n",
    "\n",
    "with open(\"oscar2024.json\", encoding=\"utf-8\") as fil:\n",
    "    data = json.load(fil)\n",
    "\n",
    "print(data[0])\n",
    " "
   ]
  },
  {
   "cell_type": "code",
   "execution_count": 3,
   "metadata": {},
   "outputs": [
    {
     "name": "stdout",
     "output_type": "stream",
     "text": [
      "Maestro\n",
      "Rustin\n",
      "The Holdovers\n",
      "Oppenheimer\n",
      "American Fiction\n",
      "American Fiction\n",
      "Killers of the Flower Moon\n",
      "Oppenheimer\n",
      "Barbie\n",
      "Poor Things\n",
      "Nyad\n",
      "Killers of the Flower Moon\n",
      "Anatomy of a Fall\n",
      "Maestro\n",
      "Poor Things\n",
      "Oppenheimer\n",
      "The Color Purple\n",
      "Barbie\n",
      "Nyad\n",
      "The Holdovers\n",
      "The Boy and the Heron\n",
      "Elemental\n",
      "Nimona\n",
      "Robot Dreams\n",
      "Spider-Man: Across the Spider-Verse\n",
      "El Conde\n",
      "Killers of the Flower Moon\n",
      "Maestro\n",
      "Oppenheimer\n",
      "Poor Things\n",
      "Barbie\n",
      "Killers of the Flower Moon\n",
      "Napoleon\n",
      "Oppenheimer\n",
      "Poor Things\n",
      "Anatomy of a Fall\n",
      "Killers of the Flower Moon\n",
      "Oppenheimer\n",
      "Poor Things\n",
      "The Zone of Interest\n",
      "Bobi Wine: The People's President\n",
      "Four Daughters\n",
      "To Kill a Tiger\n",
      "20 Days in Mariupol\n",
      "The ABCs of Book Banning\n",
      "The Barber of Little Rock\n",
      "Island in Between\n",
      "The Last Repair Shop\n",
      "Nǎi Nai & Wài Pó\n",
      "Anatomy of a Fall\n",
      "The Holdovers\n",
      "Killers of the Flower Moon\n",
      "Oppenheimer\n",
      "Poor Things\n",
      "Io Capitano\n",
      "Perfect Days\n",
      "Society of the Snow\n",
      "The Teachers' Lounge\n",
      "The Zone of Interest\n",
      "American Fiction\n",
      "Anatomy of a Fall\n",
      "Barbie\n",
      "The Holdovers\n",
      "Killers of the Flower Moon\n",
      "Maestro\n",
      "Oppenheimer\n",
      "Past Lives\n",
      "Poor Things\n",
      "The Zone of Interest\n",
      "Golda\n",
      "Maestro\n",
      "Oppenheimer\n",
      "Poor Things\n",
      "Society of the Snow\n",
      "American Fiction\n",
      "Indiana Jones and the Dial of Destiny\n",
      "Killers of the Flower Moon\n",
      "Oppenheimer\n",
      "Poor Things\n",
      "The Fire Inside\n",
      "I'm Just Ken\n",
      "It Never Went Away\n",
      "Wahzhazhe (A Song For My People)\n",
      "What Was I Made For?\n",
      "Barbie\n",
      "Killers of the Flower Moon\n",
      "Napoleon\n",
      "Oppenheimer\n",
      "Poor Things\n",
      "Letter to a Pig\n",
      "Ninety-Five Senses\n",
      "Our Uniform\n",
      "Pachyderme\n",
      "WAR IS OVER! Inspired by the Music of John & Yoko\n",
      "The After\n",
      "Invincible\n",
      "Knight of Fortune\n",
      "Red, White and Blue\n",
      "The Wonderful Story of Henry Sugar\n",
      "The Creator\n",
      "Maestro\n",
      "Mission: Impossible - Dead Reckoning Part One\n",
      "Oppenheimer\n",
      "The Zone of Interest\n",
      "The Creator\n",
      "Godzilla Minus One\n",
      "Guardians of the Galaxy Vol. 3\n",
      "Mission: Impossible - Dead Reckoning Part One\n",
      "Napoleon\n",
      "American Fiction\n",
      "Barbie\n",
      "Oppenheimer\n",
      "Poor Things\n",
      "The Zone of Interest\n",
      "Anatomy of a Fall\n",
      "The Holdovers\n",
      "Maestro\n",
      "May December\n",
      "Past Lives\n"
     ]
    }
   ],
   "source": [
    "# 2. Print alle filmene de nominerte filmene\n",
    "# >  Filmer som er nominert til flere priser kan printes flere ganger\n",
    "for kategori in data:\n",
    "    for nomination in kategori['nominations']:\n",
    "        print(nomination['movie'])\n"
   ]
  },
  {
   "cell_type": "code",
   "execution_count": 4,
   "metadata": {},
   "outputs": [
    {
     "ename": "NameError",
     "evalue": "name 'barbie_nominations' is not defined",
     "output_type": "error",
     "traceback": [
      "\u001b[0;31m---------------------------------------------------------------------------\u001b[0m",
      "\u001b[0;31mNameError\u001b[0m                                 Traceback (most recent call last)",
      "Cell \u001b[0;32mIn[4], line 12\u001b[0m\n\u001b[1;32m      9\u001b[0m             barbie_nominasjoner[name] \u001b[38;5;241m=\u001b[39m \u001b[38;5;241m1\u001b[39m\n\u001b[1;32m     11\u001b[0m regissører_sortert \u001b[38;5;241m=\u001b[39m \u001b[38;5;28msorted\u001b[39m(barbie_nominasjoner\u001b[38;5;241m.\u001b[39mitems(), key\u001b[38;5;241m=\u001b[39m\u001b[38;5;28;01mlambda\u001b[39;00m name: name[\u001b[38;5;241m1\u001b[39m], reverse\u001b[38;5;241m=\u001b[39m\u001b[38;5;28;01mTrue\u001b[39;00m)\n\u001b[0;32m---> 12\u001b[0m \u001b[38;5;28mprint\u001b[39m(\u001b[38;5;124mf\u001b[39m\u001b[38;5;124m\"\u001b[39m\u001b[38;5;124mBarbie har blirr nominert \u001b[39m\u001b[38;5;132;01m{\u001b[39;00m\u001b[43mbarbie_nominations\u001b[49m\u001b[38;5;132;01m}\u001b[39;00m\u001b[38;5;124m ganger\u001b[39m\u001b[38;5;124m\"\u001b[39m)\n",
      "\u001b[0;31mNameError\u001b[0m: name 'barbie_nominations' is not defined"
     ]
    }
   ],
   "source": [
    "# 3. Hvor mange nominasjoner har filmen \"Barbie\"\n",
    "\n",
    "barbie_nominasjoner = {}\n",
    "for kategori in data:\n",
    "    for name in kategori['name']:\n",
    "        if name in barbie_nominasjoner:\n",
    "            barbie_nominasjoner[name] += 1\n",
    "        else:\n",
    "            barbie_nominasjoner[name] = 1\n",
    " \n",
    "regissører_sortert = sorted(barbie_nominasjoner.items(), key=lambda name: name[1], reverse=True)\n",
    "print(f\"Barbie har blirr nominert {barbie_nominations} ganger\")\n"
   ]
  },
  {
   "cell_type": "code",
   "execution_count": 5,
   "metadata": {},
   "outputs": [
    {
     "name": "stdout",
     "output_type": "stream",
     "text": [
      "De ti filmene med flest nominasjoner er\n",
      "Oppenheimer: 13 nominasjoner\n"
     ]
    }
   ],
   "source": [
    "\n",
    "film_nominasjon = {}\n",
    "\n",
    "for kategori in data:\n",
    "    for nomination in kategori['nominations']:\n",
    "        movie = nomination['movie']\n",
    "        if movie in film_nominasjon:\n",
    "            film_nominasjon[movie] += 1\n",
    "        else:\n",
    "            film_nominasjon[movie] = 1\n",
    "\n",
    "top_en_filmer = sorted(film_nominasjon.items(), key=lambda x: x[1], reverse=True)[:1]\n",
    "\n",
    "print(\"De ti filmene med flest nominasjoner er\")\n",
    "\n",
    "for movie, nominations in top_en_filmer:\n",
    "    print(f\"{movie}: {nominations} nominasjoner\")"
   ]
  },
  {
   "cell_type": "code",
   "execution_count": 6,
   "metadata": {},
   "outputs": [
    {
     "name": "stdout",
     "output_type": "stream",
     "text": [
      "De ti filmene med flest nominasjoner er\n",
      "Oppenheimer: 13 nominasjoner\n",
      "Poor Things: 11 nominasjoner\n",
      "Killers of the Flower Moon: 9 nominasjoner\n",
      "Maestro: 7 nominasjoner\n",
      "Barbie: 6 nominasjoner\n",
      "The Holdovers: 5 nominasjoner\n",
      "American Fiction: 5 nominasjoner\n",
      "Anatomy of a Fall: 5 nominasjoner\n",
      "The Zone of Interest: 5 nominasjoner\n",
      "Napoleon: 3 nominasjoner\n"
     ]
    }
   ],
   "source": [
    "# 5. Lag en utskrift som viser de ti filmene med flest nominasjoner og antall nominasjoner\n",
    "\n",
    "film_nominasjon = {}\n",
    "\n",
    "for kategori in data:\n",
    "    for nomination in kategori['nominations']:\n",
    "        movie = nomination['movie']\n",
    "        if movie in film_nominasjon:\n",
    "            film_nominasjon[movie] += 1\n",
    "        else:\n",
    "            film_nominasjon[movie] = 1\n",
    "\n",
    "top_ti_filmer = sorted(film_nominasjon.items(), key=lambda x: x[1], reverse=True)[:10]\n",
    "\n",
    "print(\"De ti filmene med flest nominasjoner er\")\n",
    "\n",
    "for movie, nominations in top_ti_filmer:\n",
    "    print(f\"{movie}: {nominations} nominasjoner\")"
   ]
  },
  {
   "cell_type": "code",
   "execution_count": null,
   "metadata": {},
   "outputs": [],
   "source": []
  }
 ],
 "metadata": {
  "kernelspec": {
   "display_name": "Python 3",
   "language": "python",
   "name": "python3"
  },
  "language_info": {
   "codemirror_mode": {
    "name": "ipython",
    "version": 3
   },
   "file_extension": ".py",
   "mimetype": "text/x-python",
   "name": "python",
   "nbconvert_exporter": "python",
   "pygments_lexer": "ipython3",
   "version": "3.11.4"
  }
 },
 "nbformat": 4,
 "nbformat_minor": 2
}
