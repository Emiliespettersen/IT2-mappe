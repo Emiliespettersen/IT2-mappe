{
 "cells": [
  {
   "cell_type": "code",
   "execution_count": 1,
   "metadata": {},
   "outputs": [
    {
     "name": "stdout",
     "output_type": "stream",
     "text": [
      "hallo, verden!\n"
     ]
    }
   ],
   "source": [
    "print(\"hallo, verden!\")"
   ]
  },
  {
   "cell_type": "markdown",
   "metadata": {},
   "source": [
    "# Dokumentasjon og kommentarer\n",
    "\n",
    "## Plan\n",
    "\n",
    "1. Hvorfor komentere/ dokumentere\n",
    "2. Kommentarer vs. dokumentasjon\n",
    "3. Kommentarer\n",
    "   1. Hvordan\n",
    "   2. Trenger vi egentlig kommentarer?\n",
    "4. Type hinting\n",
    "5. Docstrings\n",
    "\n",
    "## Oppgaver\n",
    "\n",
    "- 3.17 - 3.20 på it2.torcc.no\n",
    "- Prosjektarbeid"
   ]
  },
  {
   "cell_type": "markdown",
   "metadata": {},
   "source": [
    "## Hvorfor komentere/dokumentere kode?\n",
    "\"Code is more often read than written\" - Guido von Rossum (skaperen av python)\n",
    "\n",
    "\n"
   ]
  },
  {
   "cell_type": "markdown",
   "metadata": {},
   "source": [
    "## Kommentarer\n",
    "Lag en kommentar i python:\n"
   ]
  },
  {
   "cell_type": "code",
   "execution_count": 3,
   "metadata": {},
   "outputs": [
    {
     "data": {
      "text/plain": [
       "'komentarer med \\ntre annførselstegn kan \\ngå også flere linjer'"
      ]
     },
     "execution_count": 3,
     "metadata": {},
     "output_type": "execute_result"
    }
   ],
   "source": [
    "# Kommentarer i python lages med # (hashtag)\n",
    "\"\"\"Dette er også en kommentar\"\"\"\n",
    "\n",
    "\"\"\"komentarer med \n",
    "tre annførselstegn kan \n",
    "gå også flere linjer\"\"\"\n",
    "\n",
    "# I følge PEP skal ikke en kommentar skal ikke være lenger enn 72 tegn \n",
    "# (nederst der det står \"col\" skal ikke være over 72 tegn) Hvis den er lengere enn 72 tegn legger vi på et linjeskyft"
   ]
  },
  {
   "cell_type": "code",
   "execution_count": 5,
   "metadata": {},
   "outputs": [],
   "source": [
    "def ta_på_regntøy(vær):\n",
    "    #skjekker om været er regn\n",
    "    if vær == \"regn\": \n",
    "        #returnerer True hvis været ER regn\n",
    "        return True\n",
    "    else: \n",
    "        #returnerer False hvis været IKKE er regn\n",
    "        return False\n",
    "    \n",
    "\n",
    "def f(x):\n",
    "    return(5/9) * x + 32\n",
    "\n",
    "def fahrenheit_til_celsius(fahrenheit):\n",
    "    return (5/9) * fahrenheit + 32"
   ]
  },
  {
   "cell_type": "code",
   "execution_count": 7,
   "metadata": {},
   "outputs": [
    {
     "name": "stdout",
     "output_type": "stream",
     "text": [
      "Arealet er 50.0 cm^2\n",
      "Arealet er 50.0 cm^2\n",
      "Arealet er 50.0 cm^2\n"
     ]
    }
   ],
   "source": [
    "# 3.17\n",
    "\n",
    "# 2. Hva gjør koden?\n",
    "# a er grunnlinje og b er høyde. Dette regner volumet i en trekant\n",
    " \n",
    "# 3. Legg på kommentarer slik at koden blir forståelig for andre\n",
    "#spør brukeren om grunnlinjen og konterterer til flyt tall (desimaltall)\n",
    "a = float(input(\"Grunnlinje (cm): \"))\n",
    "#spør brukeren om høyden og konterterer til flyt tall (desimaltall)\n",
    "b = float(input(\"Høyde (cm): \"))\n",
    "\n",
    "#regner ut arialet\n",
    "c = a*b/2\n",
    "\n",
    "#printer arialet sammen med en liten tekst\n",
    "print(f\"Arealet er {c} cm^2\")\n",
    " \n",
    "## ------\n",
    "# 4. Fjern alle kommentarer og endre koden slik at den blir enklere å forstå\n",
    "\n",
    "grunnlinje = float(input(\"Grunnlinje (cm): \"))\n",
    "høyde = float(input(\"Høyde (cm): \"))\n",
    "\n",
    "\n",
    "areal = grunnlinje * høyde / 2\n",
    "print(f\"Arealet er {areal} cm^2\")\n",
    " \n",
    "# 5. Se over koden og legg på eventuelle nødvendige kommentarer\n",
    "#float brukes for å konvertere tall til desimaltall\n",
    "grunnlinje = float(input(\"Grunnlinje (cm): \")) \n",
    "#float brukes for å konvertere tall til desimaltall\n",
    "høyde = float(input(\"Høyde (cm): \"))\n",
    "\n",
    "\n",
    "areal = grunnlinje * høyde / 2\n",
    "print(f\"Arealet er {areal} cm^2\")\n"
   ]
  },
  {
   "cell_type": "code",
   "execution_count": 8,
   "metadata": {},
   "outputs": [
    {
     "name": "stdout",
     "output_type": "stream",
     "text": [
      "2\n",
      "1\n"
     ]
    }
   ],
   "source": [
    "#3.18\n",
    "\n",
    "# 2. Hva gjør koden?\n",
    "# Den teller hvor mange som har den type nasjonaliteten\n",
    " \n",
    "# 3. Legg på kommentarer slik at koden blir forståelig for andre\n",
    "f1 = [\n",
    "    {\"navn\": \"Max Verstappen\", \"nasjonalitet\": \"nederlandsk\", \"team\": \"Red Bull Racing\", \"bilnummer\": 1},\n",
    "    {\"navn\": \"Sergio Perez\", \"nasjonalitet\": \"meksikansk\", \"team\": \"Red Bull Racing\", \"bilnummer\": 11},\n",
    "    {\"navn\": \"Lewis Hamilton\", \"nasjonalitet\": \"britisk\", \"team\": \"Mercedes\", \"bilnummer\": 44},\n",
    "    {\"navn\": \"George Russell\", \"nasjonalitet\": \"britisk\", \"team\": \"Mercedes\", \"bilnummer\": 63},\n",
    "    {\"navn\": \"Charles Leclerc\", \"nasjonalitet\": \"monegaskisk\", \"team\": \"Ferrari\", \"bilnummer\": 16},\n",
    "    {\"navn\": \"Kevin Magnussen\", \"nasjonalitet\": \"dansk\", \"team\": \"Haas F1 Team\", \"bilnummer\": 20},\n",
    "    {\"navn\": \"Nico Hulkenberg\", \"nasjonalitet\": \"tysk\", \"team\": \"Haas F1 Team\", \"bilnummer\": 27}\n",
    "]\n",
    " \n",
    "#En tom ordliste\n",
    "antall = {}\n",
    "\n",
    "for s in f1:         \n",
    "  if s['nasjonalitet'] not in antall:\n",
    "    antall[s['nasjonalitet']] = 1 #legger til s hvis det er samme nasjonalitet\n",
    "  else:\n",
    "    antall[s['nasjonalitet']] += 1 #hvis den allerede finnes legger vi til 1\n",
    " \n",
    "print(antall[\"britisk\"])\n",
    "print(antall[\"tysk\"])\n",
    " \n",
    "\n",
    "## ------\n",
    "# 4. Fjern alle kommentarer og endre koden slik at den blir enklere å forstå\n",
    "f1 = [\n",
    "    {\"navn\": \"Max Verstappen\", \"nasjonalitet\": \"nederlandsk\", \"team\": \"Red Bull Racing\", \"bilnummer\": 1},\n",
    "    {\"navn\": \"Sergio Perez\", \"nasjonalitet\": \"meksikansk\", \"team\": \"Red Bull Racing\", \"bilnummer\": 11},\n",
    "    {\"navn\": \"Lewis Hamilton\", \"nasjonalitet\": \"britisk\", \"team\": \"Mercedes\", \"bilnummer\": 44},\n",
    "    {\"navn\": \"George Russell\", \"nasjonalitet\": \"britisk\", \"team\": \"Mercedes\", \"bilnummer\": 63},\n",
    "    {\"navn\": \"Charles Leclerc\", \"nasjonalitet\": \"monegaskisk\", \"team\": \"Ferrari\", \"bilnummer\": 16},\n",
    "    {\"navn\": \"Kevin Magnussen\", \"nasjonalitet\": \"dansk\", \"team\": \"Haas F1 Team\", \"bilnummer\": 20},\n",
    "    {\"navn\": \"Nico Hulkenberg\", \"nasjonalitet\": \"tysk\", \"team\": \"Haas F1 Team\", \"bilnummer\": 27}\n",
    "]\n",
    " \n",
    "antall = {}\n",
    "\n",
    "for sjofører in f1:         \n",
    "  if sjofører['nasjonalitet'] not in antall:\n",
    "    antall[sjofører['nasjonalitet']] = 1\n",
    "  else:\n",
    "    antall[sjofører['nasjonalitet']] += 1\n",
    " \n",
    "print(antall[\"britisk\"])\n",
    "print(antall[\"tysk\"])\n",
    "# 5. Se over koden, og legg på eventuelle kommentarer\n",
    " \n",
    "# TODO Lim inn koden på nytt under her, og endre koden:\n",
    "\n",
    " "
   ]
  },
  {
   "cell_type": "markdown",
   "metadata": {},
   "source": [
    "##Typehinting og docstrings\n",
    "\n",
    "Typehinting og docstrings er spesielle kommentarer som brukes for å dokumentere kode. \n",
    "Dokumentasjon av kode lages for å hjelpe utviklere å bruke koden.\n",
    "For eksempel dokumentasjonen som er laget for å forklare random.randit-funksjonen er \n",
    "laget for å forklare utviklere hvordan funskjonen skal brukes\n",
    "\n",
    "\"vanlige\" kommentarer er laget for de som skal endre/forbedre kode, mens dokumentasjon \n",
    "lages for programerere som skal bruke kode."
   ]
  },
  {
   "cell_type": "code",
   "execution_count": 14,
   "metadata": {},
   "outputs": [
    {
     "data": {
      "text/plain": [
       "25.0"
      ]
     },
     "execution_count": 14,
     "metadata": {},
     "output_type": "execute_result"
    }
   ],
   "source": [
    "#Type hinting\n",
    "\n",
    "#Type hinting skrives etter parametere i funksjoner for å dokumentere hva slags datatyper\n",
    "#parametere skal være. I eksempelet under er \"float\" type hinting\n",
    "\n",
    "def areal_trekant (grunnlinje: float, høyde: float)-> int:\n",
    "    return grunnlinje * høyde / 2\n",
    "\n",
    "areal_trekant(10 , 5)\n"
   ]
  },
  {
   "cell_type": "code",
   "execution_count": 16,
   "metadata": {},
   "outputs": [
    {
     "data": {
      "text/plain": [
       "25.0"
      ]
     },
     "execution_count": 16,
     "metadata": {},
     "output_type": "execute_result"
    }
   ],
   "source": [
    "#docstring\n",
    "\n",
    "#docstrings er dokumentasjon som vises når vi bruker en funkjson eller klasse i VS code,\n",
    "#de skrives mellom tre annførselstegn\n",
    "# Det er vanlig å beskrive hva funksjonen og hva parameterene er. \n",
    "\n",
    "def areal_trekant(grunnlinje:float, høyde: float)-> float:\n",
    "    \"\"\"\n",
    "    En funskjon som regner ut areal av trekanter\n",
    "\n",
    "    Parametere\n",
    "        grunnlinje (float): grunnlinja i trekanten\n",
    "        høyde(float): høyden i trekanten\n",
    "    \"\"\"\n",
    "\n",
    "    \n",
    "    return grunnlinje * høyde / 2\n",
    "\n",
    "areal_trekant(10,5)\n",
    "\n",
    "\n"
   ]
  },
  {
   "cell_type": "code",
   "execution_count": null,
   "metadata": {},
   "outputs": [],
   "source": [
    "class Hund:\n",
    "    \"\"\" \n",
    "    Atributter\n",
    "        navn(str): navnet til hunden\n",
    "        alder(int): alderen til hunden\n",
    "        rase(str): rasen til hunden\n",
    "\n",
    "    Metoder\n",
    "        bjeff(): at hunden med et viss navn sier voff\n",
    "        viftPaaHalen(): at hunden med et viss navn logrer på halen\n",
    "        info(): gir navn, alder og rasen tol hunden (infoen om hunden)\n",
    "\n",
    "    \"\"\"\n",
    "    def __init__(self, navn, alder, rase):\n",
    "        self.navn = navn\n",
    "        self.alder = alder\n",
    "        self.rase = rase\n",
    " \n",
    "    def bjeff(self):\n",
    "        return f\"{self.navn} sier: Woof!\"\n",
    " \n",
    "    def viftPaaHalen(self):\n",
    "        return f\"{self.navn} vifter på halen!\"\n",
    " \n",
    "    def info(self):\n",
    "        return f\"{self.navn} er en {self.alder} år gammel {self.rase}.\"\n",
    " \n",
    " \n",
    "# Test av klassen\n",
    "if __name__ == \"__main__\":\n",
    "    min_hund = Hund(\"Rex\", 5, \"Schäfer\")\n",
    "    print(min_hund.bjeff())\n",
    "    print(min_hund.viftPaaHalen())\n",
    "    print(min_hund.info())"
   ]
  }
 ],
 "metadata": {
  "kernelspec": {
   "display_name": "Python 3",
   "language": "python",
   "name": "python3"
  },
  "language_info": {
   "codemirror_mode": {
    "name": "ipython",
    "version": 3
   },
   "file_extension": ".py",
   "mimetype": "text/x-python",
   "name": "python",
   "nbconvert_exporter": "python",
   "pygments_lexer": "ipython3",
   "version": "3.11.4"
  }
 },
 "nbformat": 4,
 "nbformat_minor": 2
}
