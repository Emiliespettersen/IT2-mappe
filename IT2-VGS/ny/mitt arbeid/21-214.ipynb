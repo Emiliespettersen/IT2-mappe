{
 "cells": [
  {
   "cell_type": "code",
   "execution_count": 1,
   "metadata": {},
   "outputs": [],
   "source": [
    "# 2.1) Hvilket av følgende er ikke et typisk kjennetegn på pseudokode? Velg riktig alternativ.\n",
    "\n",
    "\n",
    "#den har uformell syntaks.\n",
    "#den ligner på vanlig menneskespråk.\n",
    "        #den kan kjøres direkte på en datamaskin. DETTE ER SVARET\n",
    "#den brukes ofte i planleggingsfasen av programmering.\n",
    "\n"
   ]
  },
  {
   "cell_type": "code",
   "execution_count": 5,
   "metadata": {},
   "outputs": [],
   "source": [
    "#2.2) Ta utgangspunkt i følgende pseudokode:\n",
    "\n",
    "\"\"\"\n",
    "SET m TO 3\n",
    "SET i TO 1\n",
    "WHILE i GREATER THAN m\n",
    "  DISPLAY \"Lykkelig dag!\"\n",
    "  INCREMENT i\n",
    "ENDWHILE\n",
    "\"\"\"\n",
    "\n",
    "m = 3\n",
    "i = 1\n",
    "while i > m:\n",
    "    print(\"lykkelig dag!\")\n",
    "    i + 1\n",
    "\n",
    "\n",
    "#Hvor mange ganger blir teksten \"Lykkelig dag!\" skrevet ut?\n",
    "# Den blir printet 0 ganger. Fordi i er mindre enn m"
   ]
  },
  {
   "cell_type": "code",
   "execution_count": 7,
   "metadata": {},
   "outputs": [
    {
     "name": "stdout",
     "output_type": "stream",
     "text": [
      "1\n",
      "2\n",
      "3\n",
      "4\n",
      "5\n",
      "1\n",
      "2\n",
      "3\n",
      "4\n"
     ]
    }
   ],
   "source": [
    "# 2.3) Hvilke av de følgende sekvensene med pseudokode skriver ut \n",
    "#tallene fra og med 1 til og med 5? Flere alternativer kan være riktige. Velg riktige svar.\n",
    "\n",
    "\"\"\"\n",
    "1.\n",
    "SET i TO 1\n",
    "FOR hver i LESSER OR EQUAL 5\n",
    "  PRINT i\n",
    "ENDFOR\n",
    "2.\n",
    "SET i TO 1\n",
    "WHILE i < 5\n",
    "  PRINT i\n",
    "  INCREMENT i\n",
    "ENDWHILE\n",
    "3.\n",
    "SET i TO 0\n",
    "FOR hver i LESSER OR EQUAL 4\n",
    "  PRINT i+1\n",
    "ENDFOR\n",
    "4.\n",
    "SET i TO 1\n",
    "WHILE i <= 5\n",
    "  PRINT i\n",
    "  INCREMENT i BY 2\n",
    "ENDWHILE \n",
    "\"\"\"\n",
    "\n",
    "\n",
    "#1\n",
    "i = 1\n",
    "\n",
    "for i in range(1, 6):\n",
    "    print(i)\n",
    "\n",
    "#2\n",
    "i = 1\n",
    "while i < 5:\n",
    "    print(i)\n",
    "    i += 1\n",
    "\n"
   ]
  }
 ],
 "metadata": {
  "kernelspec": {
   "display_name": "Python 3",
   "language": "python",
   "name": "python3"
  },
  "language_info": {
   "codemirror_mode": {
    "name": "ipython",
    "version": 3
   },
   "file_extension": ".py",
   "mimetype": "text/x-python",
   "name": "python",
   "nbconvert_exporter": "python",
   "pygments_lexer": "ipython3",
   "version": "3.11.4"
  }
 },
 "nbformat": 4,
 "nbformat_minor": 2
}
