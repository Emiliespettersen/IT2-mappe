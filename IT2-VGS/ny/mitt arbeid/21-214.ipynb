{
 "cells": [
  {
   "cell_type": "code",
   "execution_count": 1,
   "metadata": {},
   "outputs": [],
   "source": [
    "# 2.1) Hvilket av følgende er ikke et typisk kjennetegn på pseudokode? Velg riktig alternativ.\n",
    "\n",
    "\n",
    "#den har uformell syntaks.\n",
    "#den ligner på vanlig menneskespråk.\n",
    "        #den kan kjøres direkte på en datamaskin. DETTE ER SVARET\n",
    "#den brukes ofte i planleggingsfasen av programmering.\n",
    "\n"
   ]
  },
  {
   "cell_type": "code",
   "execution_count": 5,
   "metadata": {},
   "outputs": [],
   "source": [
    "#2.2) Ta utgangspunkt i følgende pseudokode:\n",
    "\n",
    "\"\"\"\n",
    "SET m TO 3\n",
    "SET i TO 1\n",
    "WHILE i GREATER THAN m\n",
    "  DISPLAY \"Lykkelig dag!\"\n",
    "  INCREMENT i\n",
    "ENDWHILE\n",
    "\"\"\"\n",
    "\n",
    "m = 3\n",
    "i = 1\n",
    "while i > m:\n",
    "    print(\"lykkelig dag!\")\n",
    "    i + 1\n",
    "\n",
    "\n",
    "#Hvor mange ganger blir teksten \"Lykkelig dag!\" skrevet ut?\n",
    "# Den blir printet 0 ganger. Fordi i er mindre enn m"
   ]
  },
  {
   "cell_type": "code",
   "execution_count": 9,
   "metadata": {},
   "outputs": [
    {
     "name": "stdout",
     "output_type": "stream",
     "text": [
      "1\n",
      "2\n",
      "3\n",
      "4\n",
      "5\n",
      "1\n",
      "2\n",
      "3\n",
      "4\n",
      "1\n",
      "2\n",
      "3\n",
      "4\n",
      "5\n",
      "1\n",
      "3\n",
      "5\n"
     ]
    }
   ],
   "source": [
    "# 2.3) Hvilke av de følgende sekvensene med pseudokode skriver ut \n",
    "#tallene fra og med 1 til og med 5? Flere alternativer kan være riktige. Velg riktige svar.\n",
    "\n",
    "\"\"\"\n",
    "1.\n",
    "SET i TO 1\n",
    "FOR hver i LESSER OR EQUAL 5\n",
    "  PRINT i\n",
    "ENDFOR\n",
    "2.\n",
    "SET i TO 1\n",
    "WHILE i < 5\n",
    "  PRINT i\n",
    "  INCREMENT i\n",
    "ENDWHILE\n",
    "3.\n",
    "SET i TO 0\n",
    "FOR hver i LESSER OR EQUAL 4\n",
    "  PRINT i+1\n",
    "ENDFOR\n",
    "4.\n",
    "SET i TO 1\n",
    "WHILE i <= 5\n",
    "  PRINT i\n",
    "  INCREMENT i BY 2\n",
    "ENDWHILE \n",
    "\"\"\"\n",
    "\n",
    "\n",
    "#1\n",
    "i = 1\n",
    "\n",
    "for i in range(1, 6):\n",
    "    print(i)\n",
    "\n",
    "#2\n",
    "i = 1\n",
    "while i < 5:\n",
    "    print(i)\n",
    "    i += 1\n",
    "\n",
    "#3\n",
    "i = 0\n",
    "for i in range (5):\n",
    "    print(i + 1)\n",
    "\n",
    "# 4\n",
    "i = 1\n",
    "while i<= 5:\n",
    "    print(i)\n",
    "    i += 2\n",
    "\n",
    "\n",
    "#1 og 3 er riktige! nr 4 gir 1,3,5, så den kan også tels som riktig\n",
    "\n",
    "\n"
   ]
  },
  {
   "cell_type": "code",
   "execution_count": 10,
   "metadata": {},
   "outputs": [
    {
     "data": {
      "text/plain": [
       "'\\nSET total_sum TO 0\\nFOR hver nummer FRA 1 TIL 10\\n  SET trekant_tall TO nummer * (nummer + 1) / 2\\n  total_sum = total_sum + trekant_tall\\nENDFOR\\n\\nPRINT \"Total sum av de ti første trekanttallene er:\", total_sum\\n'"
      ]
     },
     "execution_count": 10,
     "metadata": {},
     "output_type": "execute_result"
    }
   ],
   "source": [
    "#4) Tallene 1, 3, 6, 10, 15, 21 og så videre kalles for trekanttall. \n",
    "#De tilsvarer antallet prikker som vil vises i en likesidet trekant \n",
    "#når man bruker et grunnleggende trekantmønster for å bygge trekanten. Se illustrasjonen nedenfor:\n",
    "\n",
    "#Den følgende pseudokoden beskriver en funksjon som regner ut og returner trekanttallet nummer n:\n",
    "\"\"\"\n",
    "FUNCTION trekanttall (n)\n",
    "  SET tn TO n * (n+1)/2\n",
    "  RETURN tn\n",
    "ENDFUNCTION\n",
    "\"\"\"\n",
    "#Bruk funksjonen som er beskrevet ovenfor, og skriv pseudokoden til et program som regner sammen \n",
    "#og skriver ut totalsummen av de ti første trekanttallene. Bruk dobbelt mellomrom for innrykk i \n",
    "#koden der det er aktuelt. Skriv svaret ditt nedenfor.\n",
    "\n",
    "\"\"\"\n",
    "SET total_sum TO 0\n",
    "FOR hver nummer FROM 1 TO 10\n",
    "  SET trekant_tall TO nummer * (nummer + 1) / 2\n",
    "  total_sum EQUAL total_sum + trekant_tall\n",
    "ENDFOR\n",
    "\n",
    "PRINT \"Total sum av de ti første trekanttallene er:\", total_sum\n",
    "\"\"\"\n"
   ]
  },
  {
   "cell_type": "code",
   "execution_count": 11,
   "metadata": {},
   "outputs": [
    {
     "data": {
      "text/plain": [
       "'\\nA) DISPLAY tall + \"er størst\"\\nB) ELSE IF tall2 GREATER THAN tall3\\nC) DISPLAY tall2 + \"er størst\"\\nD) ENDIF\\nE) DISPLAY tall3 + \"er størst\"\\nF) READ tall1, tall2, tall3\\nG) ELSE\\nH) IF tall1 GREATER THAN tall2 AND tall1 GREATER THAN tall3\\n'"
      ]
     },
     "execution_count": 11,
     "metadata": {},
     "output_type": "execute_result"
    }
   ],
   "source": [
    "#2.12) Nedenfor finner du flere linjer med pseudokode. Sorter linjene i riktig rekkefølge, slik \n",
    "#at det blir pseudokoden til et program som skal finne det største tallet av tre tall. \n",
    "#Tips: Linjene med pseudokode har ikke innrykk/indentering.\n",
    "\n",
    "\"\"\"\n",
    "A) DISPLAY tall + \"er størst\"\n",
    "B) ELSE IF tall2 GREATER THAN tall3\n",
    "C) DISPLAY tall2 + \"er størst\"\n",
    "D) ENDIF\n",
    "E) DISPLAY tall3 + \"er størst\"\n",
    "F) READ tall1, tall2, tall3\n",
    "G) ELSE\n",
    "H) IF tall1 GREATER THAN tall2 AND tall1 GREATER THAN tall3\n",
    "\"\"\"\n",
    "\n",
    "\n",
    "# 1- F\n",
    "# 2- H\n",
    "# 3- B\n",
    "# 4- E\n",
    "# 5- G\n",
    "# 6- C\n",
    "# 7- D\n",
    "# 8- A\n"
   ]
  },
  {
   "cell_type": "code",
   "execution_count": 12,
   "metadata": {},
   "outputs": [
    {
     "data": {
      "text/plain": [
       "' \\n1\\nSET størst TO negativt uendelig tall\\nFOR hvert tall i listen\\n  IF tall GREATER THAN størst\\n    SET størst TO tall\\n  ENDIF\\nENDFOR\\nFjern størst fra listen\\nSET nestStørst TO negativt uendelig tall\\nFOR hvert tall i listen\\n  IF tall GREATER THAN nestStørst \\n    SET nestStørst TO tall\\n  ENDIF\\nENDFOR\\nDISPLAY nestStørst\\n2\\nSET størst TO første tall i listen\\nSET nestStørst TO andre tall i listen\\nIF nestStørst GREATER THAN størst\\n  Bytt størst og nestStørst\\nENDIF\\nFOR hvert tall i listen med start fra tredje tall\\n  IF tall GREATER THAN størst\\n    SET nestStørst TO størst\\n    SET størst TO tall\\n  ELSEIF tall GREATER THAN nestStørst AND tall NOT EQUAL TO størst\\n  SET nestStørst TO tall\\n  ENDIF\\nENDFOR\\nDISPLAY nestStørst\\n3\\nSET størst TO negativt uendelig tall\\nSET nestStørst TO negativt uendelig tall\\nFOR hvert tall i listen\\n  IF tall GREATER THAN størst\\n    SET nestStørst TO størst\\n    SET størst TO tall\\n  ELSEIF tall GREATER THAN nestStørst\\n    SET nestStørst TO tall\\n  ENDIF\\nENDFOR\\nDISPLAY nestStørst\\n4\\nSorter listen i synkende rekkefølge\\nFOR hvert tall i listen\\n    IF tall NOT EQUAL TO neste tall i listen\\n        DISPLAY neste tall i listen\\n        avbryt for-løkken\\n    ENDIF\\nENDFOR\\n'"
      ]
     },
     "execution_count": 12,
     "metadata": {},
     "output_type": "execute_result"
    }
   ],
   "source": [
    "#2.13) Du får i oppgave å finne det nest største tallet i en liste (array) \n",
    "#med tall. Dersom det finnes flere like tall som er størst, skal ingen av disse \n",
    "#regnes som nest størst. Under finner du fire alternative løsninger for denne oppgaven \n",
    "#skrevet i pseudokode. Hvilke to løsninger er riktige?\n",
    "\n",
    "\"\"\" \n",
    "1\n",
    "SET størst TO negativt uendelig tall\n",
    "FOR hvert tall i listen\n",
    "  IF tall GREATER THAN størst\n",
    "    SET størst TO tall\n",
    "  ENDIF\n",
    "ENDFOR\n",
    "Fjern størst fra listen\n",
    "SET nestStørst TO negativt uendelig tall\n",
    "FOR hvert tall i listen\n",
    "  IF tall GREATER THAN nestStørst \n",
    "    SET nestStørst TO tall\n",
    "  ENDIF\n",
    "ENDFOR\n",
    "DISPLAY nestStørst\n",
    "2\n",
    "SET størst TO første tall i listen\n",
    "SET nestStørst TO andre tall i listen\n",
    "IF nestStørst GREATER THAN størst\n",
    "  Bytt størst og nestStørst\n",
    "ENDIF\n",
    "FOR hvert tall i listen med start fra tredje tall\n",
    "  IF tall GREATER THAN størst\n",
    "    SET nestStørst TO størst\n",
    "    SET størst TO tall\n",
    "  ELSEIF tall GREATER THAN nestStørst AND tall NOT EQUAL TO størst\n",
    "  SET nestStørst TO tall\n",
    "  ENDIF\n",
    "ENDFOR\n",
    "DISPLAY nestStørst\n",
    "3\n",
    "SET størst TO negativt uendelig tall\n",
    "SET nestStørst TO negativt uendelig tall\n",
    "FOR hvert tall i listen\n",
    "  IF tall GREATER THAN størst\n",
    "    SET nestStørst TO størst\n",
    "    SET størst TO tall\n",
    "  ELSEIF tall GREATER THAN nestStørst\n",
    "    SET nestStørst TO tall\n",
    "  ENDIF\n",
    "ENDFOR\n",
    "DISPLAY nestStørst\n",
    "4\n",
    "Sorter listen i synkende rekkefølge\n",
    "FOR hvert tall i listen\n",
    "    IF tall NOT EQUAL TO neste tall i listen\n",
    "        DISPLAY neste tall i listen\n",
    "        avbryt for-løkken\n",
    "    ENDIF\n",
    "ENDFOR\n",
    "\"\"\"\n",
    "\n",
    "# 2 og 3 er riktig"
   ]
  },
  {
   "cell_type": "code",
   "execution_count": null,
   "metadata": {},
   "outputs": [],
   "source": [
    "#2.14) Elementene i en indeksert variabel (liste/array) skal sorteres i stigende rekkefølge etter \n",
    "#følgende algoritme: Man sammenligner hvert element fra venstre til høyre i listen med neste element, \n",
    "#og hvis elementet er større enn neste element, bytter de plass. Deretter går man videre til neste element \n",
    "#og sammenligner på nytt frem til hele listen er gjennomgått. Dette gjentas til hele listen gjennomgås uten \n",
    "#at det forekommer noen ombyttinger.\n",
    "\n",
    "#Under finner du deler av pseudokoden for denne algoritmen. Her er a en liste med n elementer, \n",
    "#og a[ i ] er elementet på plass i i listen.\n",
    "\n",
    "\"\"\" \n",
    "SET i TO 0\n",
    "FOR hver i LESSER THAN n - 1\n",
    "  IF a[i] GREATER THAN a[i+1]    \n",
    "    CALL byttPlass()\n",
    "  ENDIF\n",
    "ENDFOR\n",
    "\"\"\"\n"
   ]
  }
 ],
 "metadata": {
  "kernelspec": {
   "display_name": "Python 3",
   "language": "python",
   "name": "python3"
  },
  "language_info": {
   "codemirror_mode": {
    "name": "ipython",
    "version": 3
   },
   "file_extension": ".py",
   "mimetype": "text/x-python",
   "name": "python",
   "nbconvert_exporter": "python",
   "pygments_lexer": "ipython3",
   "version": "3.11.4"
  }
 },
 "nbformat": 4,
 "nbformat_minor": 2
}
