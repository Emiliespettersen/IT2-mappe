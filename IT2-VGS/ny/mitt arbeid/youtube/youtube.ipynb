{
 "cells": [
  {
   "cell_type": "code",
   "execution_count": 4,
   "metadata": {},
   "outputs": [
    {
     "name": "stdout",
     "output_type": "stream",
     "text": [
      "<class 'list'>\n"
     ]
    }
   ],
   "source": [
    "\n",
    "import json\n",
    "\n",
    "with open (\"YouTube-Statistics.json\") as fil:\n",
    "    data = json.load(fil)\n",
    "print(type(data)) #printer data typen for å skjekke hva vi har å jobbe med\n",
    "\n"
   ]
  },
  {
   "cell_type": "code",
   "execution_count": 10,
   "metadata": {},
   "outputs": [
    {
     "name": "stdout",
     "output_type": "stream",
     "text": [
      "De ti landene med flest YouTube-kanaler:\n",
      "1. United States: 313 kanaler\n",
      "2. India: 168 kanaler\n",
      "3. nan: 122 kanaler\n",
      "4. Brazil: 62 kanaler\n",
      "5. United Kingdom: 43 kanaler\n",
      "6. Mexico: 33 kanaler\n",
      "7. Indonesia: 28 kanaler\n",
      "8. Spain: 22 kanaler\n",
      "9. Thailand: 18 kanaler\n",
      "10. South Korea: 17 kanaler\n"
     ]
    }
   ],
   "source": [
    "# Dictionary for å telle antall YouTube-kanaler per land\n",
    "kanaler_per_land = {}\n",
    "\n",
    "# Telle antall YouTube-kanaler per land\n",
    "for kanal in data:\n",
    "    land = kanal[\"Country\"]\n",
    "    if land in kanaler_per_land:\n",
    "        kanaler_per_land[land] += 1\n",
    "    else:\n",
    "        kanaler_per_land[land] = 1\n",
    "\n",
    "# Sorter land etter antall YouTube-kanaler i synkende rekkefølge\n",
    "sorterte_land = sorted(kanaler_per_land.items(), key=lambda kanal: kanal[1], reverse=True)\n",
    "\n",
    "# Ti landene med flest YouTube-kanaler\n",
    "print(\"De ti landene med flest YouTube-kanaler:\")\n",
    "for i in range(10):\n",
    "    print(f\"{i+1}. {sorterte_land[i][0]}: {sorterte_land[i][1]} kanaler\")\n",
    "\n"
   ]
  },
  {
   "cell_type": "code",
   "execution_count": 32,
   "metadata": {},
   "outputs": [
    {
     "name": "stdout",
     "output_type": "stream",
     "text": [
      "United States:\n",
      "Antall abonnenter per kanal: 23416932.90734824\n",
      "Antall videovisninger per kanal: 11790069702.74441\n",
      "India:\n",
      "Antall abonnenter per kanal: 25658333.333333332\n",
      "Antall videovisninger per kanal: 13577668900.02381\n",
      "nan:\n",
      "Antall abonnenter per kanal: 23952459.01639344\n",
      "Antall videovisninger per kanal: 9714363614.368853\n",
      "Brazil:\n",
      "Antall abonnenter per kanal: 19706451.612903226\n",
      "Antall videovisninger per kanal: 7761435068.82258\n",
      "United Kingdom:\n",
      "Antall abonnenter per kanal: 21334883.720930234\n",
      "Antall videovisninger per kanal: 10013175153.67442\n",
      "Mexico:\n",
      "Antall abonnenter per kanal: 18996969.696969695\n",
      "Antall videovisninger per kanal: 6006664609.787879\n",
      "Indonesia:\n",
      "Antall abonnenter per kanal: 19075000.0\n",
      "Antall videovisninger per kanal: 5393238180.535714\n",
      "Spain:\n",
      "Antall abonnenter per kanal: 17504545.454545453\n",
      "Antall videovisninger per kanal: 6023669745.409091\n",
      "Thailand:\n",
      "Antall abonnenter per kanal: 21472222.222222224\n",
      "Antall videovisninger per kanal: 14684331930.055555\n",
      "South Korea:\n",
      "Antall abonnenter per kanal: 28335294.11764706\n",
      "Antall videovisninger per kanal: 13270099142.117647\n"
     ]
    }
   ],
   "source": [
    "abonnenter_per_land = {}\n",
    "videovisninger_per_land = {}\n",
    "\n",
    "# Totalt antall abonnenter og videovisninger per land\n",
    "for kanal in data:\n",
    "    land = kanal[\"Country\"]\n",
    "    abonnenter = kanal[\"subscribers\"]\n",
    "    videovisninger = kanal[\"video views\"]\n",
    "    \n",
    "    #skjekker abonenter\n",
    "    if land in abonnenter_per_land:\n",
    "        abonnenter_per_land[land] += abonnenter\n",
    "    else:\n",
    "        abonnenter_per_land[land] = abonnenter\n",
    "    \n",
    "    #skjekker videovisninger\n",
    "    if land in videovisninger_per_land:\n",
    "        videovisninger_per_land[land] += videovisninger\n",
    "    else:\n",
    "        videovisninger_per_land[land] = videovisninger\n",
    "\n",
    "# gjennomsnitt\n",
    "for land, antall_kanaler in sorterte_land[:10]:\n",
    "    gjennomsnittlig_abonnenter = abonnenter_per_land[land] / antall_kanaler\n",
    "    gjennomsnittlig_videovisninger = videovisninger_per_land[land] / antall_kanaler\n",
    "\n",
    "    print(f\"{land}:\")\n",
    "    print(f\"Antall abonnenter per kanal: {gjennomsnittlig_abonnenter}\")\n",
    "    print(f\"Antall videovisninger per kanal: {gjennomsnittlig_videovisninger}\")\n"
   ]
  }
 ],
 "metadata": {
  "kernelspec": {
   "display_name": "Python 3",
   "language": "python",
   "name": "python3"
  },
  "language_info": {
   "codemirror_mode": {
    "name": "ipython",
    "version": 3
   },
   "file_extension": ".py",
   "mimetype": "text/x-python",
   "name": "python",
   "nbconvert_exporter": "python",
   "pygments_lexer": "ipython3",
   "version": "3.11.4"
  }
 },
 "nbformat": 4,
 "nbformat_minor": 2
}
