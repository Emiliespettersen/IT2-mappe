{
 "cells": [
  {
   "cell_type": "code",
   "execution_count": 1,
   "metadata": {},
   "outputs": [],
   "source": [
    "#oppgave 2.14\n",
    "\n",
    "import json\n",
    "with open (\"spotify-weekly-top-songs-global-uke2-2023.json\") as fil:\n",
    "    data = json.load(fil)\n"
   ]
  },
  {
   "cell_type": "code",
   "execution_count": 2,
   "metadata": {},
   "outputs": [
    {
     "name": "stdout",
     "output_type": "stream",
     "text": [
      "Believer 358\n"
     ]
    },
    {
     "data": {
      "text/plain": [
       "358"
      ]
     },
     "execution_count": 2,
     "metadata": {},
     "output_type": "execute_result"
    }
   ],
   "source": [
    "# 2.14.1 (Hvilken sang har flest uker på Spotifys Weekly Top Songs Global?)\n",
    "høyest = data[0][\"uker_paa_listen\"]\n",
    "for sang in data:\n",
    "    if sang [\"uker_paa_listen\"] > høyest:\n",
    "        høyest = sang[\"uker_paa_listen\"]\n",
    "        høyest_sang = sang[\"navn\"]\n",
    "print(høyest_sang, høyest)\n",
    "høyest"
   ]
  },
  {
   "cell_type": "code",
   "execution_count": 3,
   "metadata": {},
   "outputs": [
    {
     "name": "stdout",
     "output_type": "stream",
     "text": [
      "Talor Swift har totalt 120017297 antall streams\n"
     ]
    }
   ],
   "source": [
    "# 2.14.2 (Hvor mange streams har Taylor Swift til sammen på sangene hennes som er på topplista?)\n",
    "total = 0\n",
    "for sang in data:\n",
    "    if sang[\"artist\"] == \"Taylor Swift\":\n",
    "        total += sang [\"antall_streams\"]\n",
    "print(f\"Talor Swift har totalt {total} antall streams på sine sanger\")"
   ]
  },
  {
   "cell_type": "code",
   "execution_count": null,
   "metadata": {},
   "outputs": [],
   "source": [
    "# 2.14.3 (Hvilken sang gikk opp flest plasseringer fra forrige uke til denne?)\n"
   ]
  }
 ],
 "metadata": {
  "kernelspec": {
   "display_name": "Python 3",
   "language": "python",
   "name": "python3"
  },
  "language_info": {
   "codemirror_mode": {
    "name": "ipython",
    "version": 3
   },
   "file_extension": ".py",
   "mimetype": "text/x-python",
   "name": "python",
   "nbconvert_exporter": "python",
   "pygments_lexer": "ipython3",
   "version": "3.11.4"
  }
 },
 "nbformat": 4,
 "nbformat_minor": 2
}
