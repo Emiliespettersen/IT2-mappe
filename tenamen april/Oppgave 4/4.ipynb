{
 "cells": [
  {
   "cell_type": "code",
   "execution_count": 2,
   "metadata": {},
   "outputs": [],
   "source": [
    "#starten som jeg alltid må ha med\n",
    "import json\n",
    "\n",
    "with open(\"sykkelturer.json\", \"r\") as file:\n",
    "    trip_data = json.load(file)\n",
    "\n"
   ]
  },
  {
   "cell_type": "code",
   "execution_count": 3,
   "metadata": {},
   "outputs": [
    {
     "name": "stdout",
     "output_type": "stream",
     "text": [
      "En av de fem mest populære start stasjonene er: Alexander Kiellands Plass: 537 turer\n",
      "En av de fem mest populære start stasjonene er: Helga Helgesens plass: 503 turer\n",
      "En av de fem mest populære start stasjonene er: Olaf Ryes plass: 495 turer\n",
      "En av de fem mest populære start stasjonene er: Aker Brygge: 492 turer\n",
      "En av de fem mest populære start stasjonene er: Marcus Thranes gate: 476 turer\n"
     ]
    }
   ],
   "source": [
    "\n",
    "# Oppgave 1: De fem mest populære startstasjonene\n",
    "start_station_count = {} #lager en tom liste\n",
    "for trip in trip_data:\n",
    "    start_station = trip[\"start_station_name\"]\n",
    "    start_station_count[start_station] = start_station_count.get(start_station, 0) + 1\n",
    "\n",
    "top_5_start_stations = sorted(start_station_count.items(), key=lambda x: x[1], reverse=True)[:5]\n",
    "for stasjon, telling in top_5_start_stations:\n",
    "    print(f\"En av de fem mest populære start stasjonene er: {stasjon}: {telling} turer\")\n"
   ]
  },
  {
   "cell_type": "code",
   "execution_count": 4,
   "metadata": {},
   "outputs": [
    {
     "name": "stdout",
     "output_type": "stream",
     "text": [
      "De tre lengste turene (målt i tid):\n",
      "Dronningens gate til Jernbanetorget: 29628 sekunder\n",
      "The Hub til Parkveien: 27613 sekunder\n",
      "Colletts gate til Skråninga: 26605 sekunder\n"
     ]
    }
   ],
   "source": [
    "# Oppgave 2: De tre lengste turene (målt i tid)\n",
    "lengste_tur_tid = sorted(trip_data, key=lambda x: int(x[\"duration\"]), reverse=True)[:3]\n",
    "print(\"De tre lengste turene (målt i tid):\")\n",
    "for trip in lengste_tur_tid:\n",
    "    start_station = trip[\"start_station_name\"]\n",
    "    slutt_station = trip[\"end_station_name\"]\n",
    "    duration = int(trip[\"duration\"])\n",
    "    print(f\"{start_station} til {slutt_station}: {duration} sekunder\")"
   ]
  },
  {
   "cell_type": "code",
   "execution_count": 6,
   "metadata": {},
   "outputs": [
    {
     "name": "stdout",
     "output_type": "stream",
     "text": [
      "De tre lengste turene (målt i avstand):\n",
      "Kværnerbyen til Hoffsveien\n",
      "Sjølyst til Sotahjørnet\n",
      "Storo Storsenter til Norsk Folkemuseum\n"
     ]
    }
   ],
   "source": [
    "# Oppgave 3: De tre lengste turene (målt i avstand)\n",
    "longest_trips_by_distance = sorted(trip_data, key=lambda x: abs(float(x[\"start_station_latitude\"]) - float(x[\"end_station_latitude\"])) + abs(float(x[\"start_station_longitude\"]) - float(x[\"end_station_longitude\"])), reverse=True)[:3]\n",
    "# Funker ikke fordi pytagoras (c = sqrt(a^2 + b^2), ikke a + b, der a og b er endringer i latitude og longitude)\n",
    "print(\"De tre lengste turene (målt i avstand):\")\n",
    "for trip in longest_trips_by_distance:\n",
    "    start_station = trip[\"start_station_name\"]\n",
    "    slutt_station = trip[\"end_station_name\"]\n",
    "    print(f\"{start_station} til {slutt_station}\")\n"
   ]
  },
  {
   "cell_type": "code",
   "execution_count": 13,
   "metadata": {},
   "outputs": [
    {
     "name": "stdout",
     "output_type": "stream",
     "text": [
      "-- Lengste Turer --\n",
      "1: HasleLinje til Skøyen Stasjon\n",
      "2: Sjølyst til Sotahjørnet\n",
      "3: Sofienbergparken nord til Furulund\n"
     ]
    }
   ],
   "source": [
    "import math\n",
    "distanser = {}\n",
    "for trip in trip_data:\n",
    "    d_lat = float(trip[\"start_station_latitude\"]) - float(trip[\"end_station_latitude\"])\n",
    "    d_lon = float(trip[\"start_station_longitude\"]) - float(trip[\"end_station_longitude\"])\n",
    "    dist = math.sqrt(d_lat**2+d_lon**2)\n",
    "    distanser[dist] = (trip[\"start_station_name\"], trip[\"end_station_name\"])\n",
    "\n",
    "distanser_sortert = sorted(distanser.items(), key=lambda tur:tur[0], reverse=True)\n",
    "print(\"-- Lengste Turer --\")\n",
    "for i in range(3):\n",
    "    print(f\"{i + 1}: {distanser_sortert[i][1][0]} til {distanser_sortert[i][1][1]}\")"
   ]
  }
 ],
 "metadata": {
  "kernelspec": {
   "display_name": "Python 3",
   "language": "python",
   "name": "python3"
  },
  "language_info": {
   "codemirror_mode": {
    "name": "ipython",
    "version": 3
   },
   "file_extension": ".py",
   "mimetype": "text/x-python",
   "name": "python",
   "nbconvert_exporter": "python",
   "pygments_lexer": "ipython3",
   "version": "3.11.4"
  }
 },
 "nbformat": 4,
 "nbformat_minor": 2
}
