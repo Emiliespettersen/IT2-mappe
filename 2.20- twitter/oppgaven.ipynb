{
 "cells": [
  {
   "cell_type": "code",
   "execution_count": 2,
   "metadata": {},
   "outputs": [
    {
     "name": "stdout",
     "output_type": "stream",
     "text": [
      "<class 'list'>\n"
     ]
    },
    {
     "data": {
      "text/plain": [
       "{'username': 'KimKardashian',\n",
       " 'tweets': 36667,\n",
       " 'followers': 75176783,\n",
       " 'following': 128}"
      ]
     },
     "execution_count": 2,
     "metadata": {},
     "output_type": "execute_result"
    }
   ],
   "source": [
    "import json\n",
    "\n",
    "with open (\"twitter.json\") as fil:\n",
    "    dataset = json.load(fil)\n",
    "print(type(dataset)) #printer data typen for å skjekke hva vi har å jobbe med\n",
    "dataset[0] #henter ut det første elementet i lista (trenger ikke print i notebooks)"
   ]
  },
  {
   "cell_type": "code",
   "execution_count": 3,
   "metadata": {},
   "outputs": [],
   "source": [
    "\n",
    "# Funksjon for å sortere datasettet basert på antall følgere\n",
    "def sort_by_followers(user):\n",
    "    return user[\"followers\"]\n",
    "\n"
   ]
  },
  {
   "cell_type": "code",
   "execution_count": 4,
   "metadata": {},
   "outputs": [],
   "source": [
    "# Sorterer datasettet basert på antall følgere i synkende rekkefølge\n",
    "sorted_dataset = sorted(dataset, key=sort_by_followers, reverse=True)\n"
   ]
  },
  {
   "cell_type": "code",
   "execution_count": 8,
   "metadata": {},
   "outputs": [
    {
     "name": "stdout",
     "output_type": "stream",
     "text": [
      "Top 10 brukere med flest Twitter-følgere:\n",
      "1. elonmusk:\n",
      "Tweets: 42318\n",
      "Followers: 180483638\n",
      "Followers/Following ratio: 314431.425087108\n",
      "2. BarackObama:\n",
      "Tweets: 17016\n",
      "Followers: 131876712\n",
      "Followers/Following ratio: 242.85792788479245\n",
      "3. Cristiano:\n",
      "Tweets: 4061\n",
      "Followers: 111007811\n",
      "Followers/Following ratio: 1608808.8550724639\n",
      "4. justinbieber:\n",
      "Tweets: 31176\n",
      "Followers: 110939914\n",
      "Followers/Following ratio: 404.6967106967107\n",
      "5. rihanna:\n",
      "Tweets: 10718\n",
      "Followers: 107958168\n",
      "Followers/Following ratio: 111411.93808049535\n",
      "6. katyperry:\n",
      "Tweets: 11990\n",
      "Followers: 106547420\n",
      "Followers/Following ratio: 442105.47717842326\n",
      "7. narendramodi:\n",
      "Tweets: 41209\n",
      "Followers: 97228794\n",
      "Followers/Following ratio: 36511.000375516334\n",
      "8. taylorswift13:\n",
      "Tweets: 828\n",
      "Followers: 95267900\n",
      "Followers/Following ratio: Ingen følgere\n",
      "9. realDonaldTrump:\n",
      "Tweets: 59120\n",
      "Followers: 87352378\n",
      "Followers/Following ratio: 1712791.7254901961\n",
      "10. ArianaGrande:\n",
      "Tweets: 47154\n",
      "Followers: 85268269\n",
      "Followers/Following ratio: 1536.5313187011209\n"
     ]
    }
   ],
   "source": [
    "# Presenterer de ti brukerne med flest følgere\n",
    "print(\"Top 10 brukere med flest Twitter-følgere:\")\n",
    "for i, user in enumerate(sorted_dataset[:10], 1):\n",
    "    print(f\"{i}. {user['username']}:\")\n",
    "    print(f\"Tweets: {user['tweets']}\")\n",
    "    print(f\"Followers: {user['followers']}\")\n",
    "    followers_to_following_ratio = user['followers'] / user['following'] if user['following'] != 0 else \"Ingen følgere\"\n",
    "    print(f\"Followers/Following ratio: {followers_to_following_ratio}\")"
   ]
  },
  {
   "cell_type": "code",
   "execution_count": null,
   "metadata": {},
   "outputs": [],
   "source": []
  }
 ],
 "metadata": {
  "kernelspec": {
   "display_name": "Python 3",
   "language": "python",
   "name": "python3"
  },
  "language_info": {
   "codemirror_mode": {
    "name": "ipython",
    "version": 3
   },
   "file_extension": ".py",
   "mimetype": "text/x-python",
   "name": "python",
   "nbconvert_exporter": "python",
   "pygments_lexer": "ipython3",
   "version": "3.11.4"
  }
 },
 "nbformat": 4,
 "nbformat_minor": 2
}
